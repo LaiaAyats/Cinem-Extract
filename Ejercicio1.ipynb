{
 "cells": [
  {
   "cell_type": "markdown",
   "metadata": {},
   "source": [
    "Fase 1: Extracción de Datos de API de MoviesDataset\n",
    "\n",
    "En esta fase, usaremos la API de MoviesDataset, que contiene una gran cantidad de información sobre películas, incluyendo detalles como títulos, géneros, años de lanzamiento y más. Vuestra tarea será hacer solicitudes a esta API y extraer información relevante sobre las películas. En concreto tendreis que sacar la siguiente información:\n",
    "\n",
    "    Películas desde el 2010 hasta la actualidad.\n",
    "\n",
    "    Películas que pertenezcan a los siguientes géneros: Drama, Comedy, Action.\n",
    "\n",
    "    De cada una de las películas tendreis que sacar la siguiente información:\n",
    "\n",
    "        Tipo (si es corto o película).\n",
    "\n",
    "        Nombre de la película o el corto.\n",
    "\n",
    "        Año de estreno de la película o corto.\n",
    "\n",
    "        Mes de estreno de la película o corto.\n",
    "\n",
    "        Id de la película.\n",
    "\n"
   ]
  },
  {
   "cell_type": "code",
   "execution_count": 2,
   "metadata": {},
   "outputs": [
    {
     "name": "stderr",
     "output_type": "stream",
     "text": [
      "/Users/usuario/Library/Python/3.9/lib/python/site-packages/urllib3/__init__.py:35: NotOpenSSLWarning: urllib3 v2 only supports OpenSSL 1.1.1+, currently the 'ssl' module is compiled with 'LibreSSL 2.8.3'. See: https://github.com/urllib3/urllib3/issues/3020\n",
      "  warnings.warn(\n"
     ]
    }
   ],
   "source": [
    "import pandas as pd\n",
    "import requests\n",
    "import re\n",
    "pd.set_option('display.max_columns', None)"
   ]
  },
  {
   "cell_type": "code",
   "execution_count": 4,
   "metadata": {},
   "outputs": [
    {
     "ename": "KeyError",
     "evalue": "'results'",
     "output_type": "error",
     "traceback": [
      "\u001b[0;31m---------------------------------------------------------------------------\u001b[0m",
      "\u001b[0;31mKeyError\u001b[0m                                  Traceback (most recent call last)",
      "Cell \u001b[0;32mIn[4], line 24\u001b[0m\n\u001b[1;32m     22\u001b[0m \u001b[38;5;66;03m# Convierte la consulta a formato json\u001b[39;00m\n\u001b[1;32m     23\u001b[0m llamada \u001b[38;5;241m=\u001b[39m consulta\u001b[38;5;241m.\u001b[39mjson()      \n\u001b[0;32m---> 24\u001b[0m \u001b[38;5;28;01mfor\u001b[39;00m peliculas \u001b[38;5;129;01min\u001b[39;00m \u001b[43mllamada\u001b[49m\u001b[43m[\u001b[49m\u001b[38;5;124;43m\"\u001b[39;49m\u001b[38;5;124;43mresults\u001b[39;49m\u001b[38;5;124;43m\"\u001b[39;49m\u001b[43m]\u001b[49m: \n\u001b[1;32m     25\u001b[0m     \u001b[38;5;66;03m# Sacamos el valor de la clave tipo\u001b[39;00m\n\u001b[1;32m     26\u001b[0m     tipo \u001b[38;5;241m=\u001b[39m peliculas[\u001b[38;5;124m\"\u001b[39m\u001b[38;5;124mtitleType\u001b[39m\u001b[38;5;124m\"\u001b[39m][\u001b[38;5;124m\"\u001b[39m\u001b[38;5;124mtext\u001b[39m\u001b[38;5;124m\"\u001b[39m]\n\u001b[1;32m     27\u001b[0m     \u001b[38;5;28;01mif\u001b[39;00m tipo \u001b[38;5;241m==\u001b[39m \u001b[38;5;124m\"\u001b[39m\u001b[38;5;124mMovie\u001b[39m\u001b[38;5;124m\"\u001b[39m \u001b[38;5;129;01mor\u001b[39;00m tipo \u001b[38;5;241m==\u001b[39m\u001b[38;5;124m\"\u001b[39m\u001b[38;5;124mShort\u001b[39m\u001b[38;5;124m\"\u001b[39m:\n\u001b[1;32m     28\u001b[0m         \u001b[38;5;66;03m# Lo añadimos al dic dentro de la clave tipo\u001b[39;00m\n",
      "\u001b[0;31mKeyError\u001b[0m: 'results'"
     ]
    }
   ],
   "source": [
    "# credenciales que paso César\n",
    "headers = {\n",
    "        \"X-RapidAPI-Key\": \"aquí_tu_api_key\",\n",
    "        \"X-RapidAPI-Host\": \"moviesdatabase.p.rapidapi.com\"  \n",
    "        }\n",
    "\n",
    "# Creamos un diccionario (de momento para el 2010)\n",
    "diccionario_drama = {\"tipo\": [],\n",
    "                    \"titulo\": [],\n",
    "                    \"año\": [],\n",
    "                    \"mes\": [],\n",
    "                    \"id\":[]}\n",
    "\n",
    "# La llamada contiene 4 keys (page, next, entries, results)\n",
    "# Los datos que nos interesan estan en results por eso el bucle lo hacemos sobre llamada[\"results\"] (que es una lista con los datos de las peliculas)\n",
    "# Accedemos a cada una de las peliculas de la lista llamadas[\"results\"]\n",
    "for anho in range(2010,2025):\n",
    "    for pag in range(1,3):\n",
    "        url = f\"https://moviesdatabase.p.rapidapi.com/titles?year={anho}&genre=Drama&page={pag}\"\n",
    "        # Realiza una solicitud GET a la URL proporcionada y almacena la respuesta en 'llamada'\n",
    "        consulta = requests.get(url, headers= headers) \n",
    "        # Convierte la consulta a formato json\n",
    "        llamada = consulta.json()      \n",
    "        for peliculas in llamada[\"results\"]: \n",
    "            # Sacamos el valor de la clave tipo\n",
    "            tipo = peliculas[\"titleType\"][\"text\"]\n",
    "            if tipo == \"Movie\" or tipo ==\"Short\":\n",
    "                # Lo añadimos al dic dentro de la clave tipo\n",
    "                diccionario_drama[\"tipo\"].append(tipo)\n",
    "                # Sacamos el valor de la clave id   \n",
    "                id = peliculas[\"id\"]     \n",
    "                # Lo añadimos al dic dentro de la clave id\n",
    "                diccionario_drama[\"id\"].append(id)\n",
    "                # Sacamos el valor de la clave titulo\n",
    "                titulo = peliculas[\"titleText\"][\"text\"]\n",
    "                # Lo añadimos al dic dentro de la clave titulo    \n",
    "                diccionario_drama[\"titulo\"].append(titulo)\n",
    "                # Como hemos detectado que algunas peliculas no tienen año tratamos esta excepcion\n",
    "                try:\n",
    "                    # Sacamos el valor de la clave año\n",
    "                    anho = peliculas[\"releaseDate\"][\"year\"]\n",
    "                    # Lo añadimos al dic dentro de la clave año   \n",
    "                    diccionario_drama[\"año\"].append(anho)\n",
    "                except:\n",
    "                    # En caso de que no lo encuentre añadimos al dic dentro de la clave año el valor none\n",
    "                    diccionario_drama[\"año\"].append(\"none\")\n",
    "                # Como hemos detectado que algunas peliculas no tienen mes tratamos esta excepcion\n",
    "                try:\n",
    "                    # Sacamos el valor de la clave mes\n",
    "                    mes = peliculas[\"releaseDate\"][\"month\"]\n",
    "                    # Lo añadimos al dic dentro de la clave mes   \n",
    "                    diccionario_drama[\"mes\"].append(mes)\n",
    "                except:\n",
    "                    # En caso de que no lo encuentre añadimos al dic dentro de la clave mes el valor none\n",
    "                    diccionario_drama[\"mes\"].append(\"none\")"
   ]
  },
  {
   "cell_type": "code",
   "execution_count": null,
   "metadata": {},
   "outputs": [],
   "source": [
    "lista_de_tuplas = list(zip( diccionario_drama[\"tipo\"], diccionario_drama[\"titulo\"],  diccionario_drama[\"mes\"],diccionario_drama[\"año\"], diccionario_drama[\"id\"] )) # Mostrar el resultado print(lista_de_tuplas)"
   ]
  },
  {
   "cell_type": "code",
   "execution_count": null,
   "metadata": {},
   "outputs": [],
   "source": [
    "df = pd.DataFrame(diccionario_drama)\n",
    "df.to_csv(\"drama\")"
   ]
  },
  {
   "cell_type": "markdown",
   "metadata": {},
   "source": [
    "Siguientes pasos:\n",
    "\n",
    "Preparar la url para que extraiga datos de mas paginas (el 1 del final):\n",
    "\n",
    "https://moviesdatabase.p.rapidapi.com/titles?year=2010&genre=Drama&page=1\n",
    "\n",
    "Preparar la url para que extraiga datos de mas años \n",
    "for anho in range(2010,2025)\n",
    "\n",
    "Preparar la url para que extraiga datos de otros generos\n"
   ]
  }
 ],
 "metadata": {
  "kernelspec": {
   "display_name": "Python 3",
   "language": "python",
   "name": "python3"
  },
  "language_info": {
   "codemirror_mode": {
    "name": "ipython",
    "version": 3
   },
   "file_extension": ".py",
   "mimetype": "text/x-python",
   "name": "python",
   "nbconvert_exporter": "python",
   "pygments_lexer": "ipython3",
   "version": "3.9.6"
  }
 },
 "nbformat": 4,
 "nbformat_minor": 2
}
