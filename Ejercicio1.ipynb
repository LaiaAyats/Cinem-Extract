{
 "cells": [
  {
   "cell_type": "markdown",
   "metadata": {},
   "source": [
    "Fase 1: Extracción de Datos de API de MoviesDataset\n",
    "\n",
    "En esta fase, usaremos la API de MoviesDataset, que contiene una gran cantidad de información sobre películas, incluyendo detalles como títulos, géneros, años de lanzamiento y más. Vuestra tarea será hacer solicitudes a esta API y extraer información relevante sobre las películas. En concreto tendreis que sacar la siguiente información:\n",
    "\n",
    "    Películas desde el 2010 hasta la actualidad.\n",
    "\n",
    "    Películas que pertenezcan a los siguientes géneros: Drama, Comedy, Action.\n",
    "\n",
    "    De cada una de las películas tendreis que sacar la siguiente información:\n",
    "\n",
    "        Tipo (si es corto o película).\n",
    "\n",
    "        Nombre de la película o el corto.\n",
    "\n",
    "        Año de estreno de la película o corto.\n",
    "\n",
    "        Mes de estreno de la película o corto.\n",
    "\n",
    "        Id de la película.\n",
    "\n"
   ]
  },
  {
   "cell_type": "code",
   "execution_count": 1,
   "metadata": {},
   "outputs": [],
   "source": [
    "import pandas as pd\n",
    "import requests\n",
    "import re\n",
    "pd.set_option('display.max_columns', None)"
   ]
  },
  {
   "cell_type": "code",
   "execution_count": 3,
   "metadata": {},
   "outputs": [],
   "source": [
    "# credenciales que paso César\n",
    "headers = {\n",
    "        \"X-RapidAPI-Key\": \"259fa62b8fmsh4559d55914ba59dp164788jsn2dda4d1f133e\",\n",
    "        \"X-RapidAPI-Host\": \"moviesdatabase.p.rapidapi.com\"  \n",
    "        }\n",
    "\n",
    "# Creamos un diccionario (de momento para el 2010)\n",
    "diccionario_drama = {\"tipo\": [],\n",
    "                    \"titulo\": [],\n",
    "                    \"año\": [],\n",
    "                    \"mes\": [],\n",
    "                    \"id\":[]}\n",
    "\n",
    "# La llamada contiene 4 keys (page, next, entries, results)\n",
    "# Los datos que nos interesan estan en results por eso el bucle lo hacemos sobre llamada[\"results\"] (que es una lista con los datos de las peliculas)\n",
    "# Accedemos a cada una de las peliculas de la lista llamadas[\"results\"]\n",
    "for anho in range(2010,2025):\n",
    "    for pag in range(1,3):\n",
    "        url = f\"https://moviesdatabase.p.rapidapi.com/titles?year={anho}&genre=Comedy&page={pag}\"\n",
    "        # Realiza una solicitud GET a la URL proporcionada y almacena la respuesta en 'llamada'\n",
    "        consulta = requests.get(url, headers= headers) \n",
    "        # Convierte la consulta a formato json\n",
    "        llamada = consulta.json()      \n",
    "        for peliculas in llamada[\"results\"]: \n",
    "            # Sacamos el valor de la clave tipo\n",
    "            tipo = peliculas[\"titleType\"][\"text\"]\n",
    "            if tipo == \"Movie\" or tipo ==\"Short\":\n",
    "                # Lo añadimos al dic dentro de la clave tipo\n",
    "                diccionario_drama[\"tipo\"].append(tipo)\n",
    "                # Sacamos el valor de la clave id   \n",
    "                id = peliculas[\"id\"]     \n",
    "                # Lo añadimos al dic dentro de la clave id\n",
    "                diccionario_drama[\"id\"].append(id)\n",
    "                # Sacamos el valor de la clave titulo\n",
    "                titulo = peliculas[\"titleText\"][\"text\"]\n",
    "                # Lo añadimos al dic dentro de la clave titulo    \n",
    "                diccionario_drama[\"titulo\"].append(titulo)\n",
    "                # Como hemos detectado que algunas peliculas no tienen año tratamos esta excepcion\n",
    "                try:\n",
    "                    # Sacamos el valor de la clave año\n",
    "                    anho = peliculas[\"releaseDate\"][\"year\"]\n",
    "                    # Lo añadimos al dic dentro de la clave año   \n",
    "                    diccionario_drama[\"año\"].append(anho)\n",
    "                except:\n",
    "                    # En caso de que no lo encuentre añadimos al dic dentro de la clave año el valor none\n",
    "                    diccionario_drama[\"año\"].append(\"none\")\n",
    "                # Como hemos detectado que algunas peliculas no tienen mes tratamos esta excepcion\n",
    "                try:\n",
    "                    # Sacamos el valor de la clave mes\n",
    "                    mes = peliculas[\"releaseDate\"][\"month\"]\n",
    "                    # Lo añadimos al dic dentro de la clave mes   \n",
    "                    diccionario_drama[\"mes\"].append(mes)\n",
    "                except:\n",
    "                    # En caso de que no lo encuentre añadimos al dic dentro de la clave mes el valor none\n",
    "                    diccionario_drama[\"mes\"].append(\"none\")"
   ]
  },
  {
   "cell_type": "code",
   "execution_count": 4,
   "metadata": {},
   "outputs": [],
   "source": [
    "lista_de_tuplas = list(zip( diccionario_drama[\"tipo\"], diccionario_drama[\"titulo\"],  diccionario_drama[\"mes\"],diccionario_drama[\"año\"], diccionario_drama[\"id\"] )) # Mostrar el resultado print(lista_de_tuplas)"
   ]
  },
  {
   "cell_type": "code",
   "execution_count": 5,
   "metadata": {},
   "outputs": [],
   "source": [
    "df = pd.DataFrame(diccionario_drama)\n",
    "df.to_csv(\"Comedy\")"
   ]
  },
  {
   "cell_type": "markdown",
   "metadata": {},
   "source": [
    "Siguientes pasos:\n",
    "\n",
    "Preparar la url para que extraiga datos de mas paginas (el 1 del final):\n",
    "\n",
    "https://moviesdatabase.p.rapidapi.com/titles?year=2010&genre=Drama&page=1\n",
    "\n",
    "Preparar la url para que extraiga datos de mas años \n",
    "for anho in range(2010,2025)\n",
    "\n",
    "Preparar la url para que extraiga datos de otros generos\n"
   ]
  }
 ],
 "metadata": {
  "kernelspec": {
   "display_name": "Python 3",
   "language": "python",
   "name": "python3"
  },
  "language_info": {
   "codemirror_mode": {
    "name": "ipython",
    "version": 3
   },
   "file_extension": ".py",
   "mimetype": "text/x-python",
   "name": "python",
   "nbconvert_exporter": "python",
   "pygments_lexer": "ipython3",
   "version": "3.9.12"
  }
 },
 "nbformat": 4,
 "nbformat_minor": 2
}
